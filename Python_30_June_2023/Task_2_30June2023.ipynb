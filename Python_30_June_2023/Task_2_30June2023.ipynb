{
 "cells": [
  {
   "cell_type": "code",
   "execution_count": 2,
   "id": "32d5a20a",
   "metadata": {},
   "outputs": [
    {
     "name": "stdout",
     "output_type": "stream",
     "text": [
      "['hello , 1', 'Kartik , 1', 'Amitab , 1']\n"
     ]
    }
   ],
   "source": [
    "# Take 3 string in list and the output should be the first data of each data just before the first white space \n",
    "# and add 1 as a character to every first data .\n",
    "\n",
    "inputstringlist = [\"hello krishna\",\"Kartik Aryan\",\"Amitab  Bacchan\"]\n",
    "\n",
    "finaloutput = list(map(lambda varstr : varstr.split()[0] + \" , 1\" ,inputstringlist))\n",
    "\n",
    "print(finaloutput)"
   ]
  },
  {
   "cell_type": "code",
   "execution_count": null,
   "id": "86c6316c",
   "metadata": {},
   "outputs": [],
   "source": []
  }
 ],
 "metadata": {
  "kernelspec": {
   "display_name": "Python 3 (ipykernel)",
   "language": "python",
   "name": "python3"
  },
  "language_info": {
   "codemirror_mode": {
    "name": "ipython",
    "version": 3
   },
   "file_extension": ".py",
   "mimetype": "text/x-python",
   "name": "python",
   "nbconvert_exporter": "python",
   "pygments_lexer": "ipython3",
   "version": "3.10.9"
  }
 },
 "nbformat": 4,
 "nbformat_minor": 5
}
