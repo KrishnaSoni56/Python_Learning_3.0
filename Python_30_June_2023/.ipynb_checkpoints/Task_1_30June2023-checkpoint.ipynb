{
 "cells": [
  {
   "cell_type": "code",
   "execution_count": 1,
   "id": "6e775bce",
   "metadata": {},
   "outputs": [
    {
     "name": "stdout",
     "output_type": "stream",
     "text": [
      "[[1, 3], [5, 7], [10, 30], [100, 300]]\n"
     ]
    }
   ],
   "source": [
    "# Create a list that contains 4 list element , \n",
    "# Each list has 4 data element and the task is that the output contains 0th and 2nd index data of each list among 4 list \n",
    "\n",
    "listoflist = [[1,2,3,4],[5,6,7,8],[10,20,30,40],[100,200,300,400]]\n",
    "\n",
    "output = list(map(lambda listno: [listno[0],listno[2]],listoflist))\n",
    "# the lambda function extracts the 0th and 2nd index from listno\n",
    "print(output)"
   ]
  },
  {
   "cell_type": "code",
   "execution_count": null,
   "id": "6d1aec0e",
   "metadata": {},
   "outputs": [],
   "source": []
  }
 ],
 "metadata": {
  "kernelspec": {
   "display_name": "Python 3 (ipykernel)",
   "language": "python",
   "name": "python3"
  },
  "language_info": {
   "codemirror_mode": {
    "name": "ipython",
    "version": 3
   },
   "file_extension": ".py",
   "mimetype": "text/x-python",
   "name": "python",
   "nbconvert_exporter": "python",
   "pygments_lexer": "ipython3",
   "version": "3.11.5"
  },
  "widgets": {
   "application/vnd.jupyter.widget-state+json": {
    "state": {},
    "version_major": 2,
    "version_minor": 0
   }
  }
 },
 "nbformat": 4,
 "nbformat_minor": 5
}
