{
 "cells": [
  {
   "cell_type": "code",
   "execution_count": 1,
   "id": "3cc1f034-7554-42f0-bd9c-ab448c4a492f",
   "metadata": {},
   "outputs": [],
   "source": [
    "# OOPS in python"
   ]
  },
  {
   "cell_type": "markdown",
   "id": "6a2fd8e4-c3ea-4625-a8de-5bd1021c1490",
   "metadata": {},
   "source": [
    "# To map with real world scenarios , we started using objects in code"
   ]
  },
  {
   "cell_type": "markdown",
   "id": "c9da673a-0969-4d09-bb48-9eca6ae65304",
   "metadata": {
    "tags": []
   },
   "source": [
    "# Procedural -> Functional -> Object oriented \n",
    "\n",
    "redundancy less , code reusability high "
   ]
  },
  {
   "cell_type": "code",
   "execution_count": 2,
   "id": "ccc690ba-28fa-4f60-8455-1fda9769eec7",
   "metadata": {
    "tags": []
   },
   "outputs": [],
   "source": [
    "# Class & objects in python\n",
    "\n",
    "# class is a blueprint for creating objects"
   ]
  },
  {
   "cell_type": "code",
   "execution_count": 3,
   "id": "837e5d10-7136-472d-bc92-a839b8586aab",
   "metadata": {
    "tags": []
   },
   "outputs": [
    {
     "name": "stdout",
     "output_type": "stream",
     "text": [
      "John\n"
     ]
    }
   ],
   "source": [
    "# Creating class \n",
    "\n",
    "class Student :\n",
    "    name = \"John\"\n",
    "    \n",
    "        \n",
    "# creating object fpr class student \n",
    "s1 = Student()\n",
    "print(s1.name)"
   ]
  },
  {
   "cell_type": "code",
   "execution_count": 4,
   "id": "b7ad2c0d-ec96-49af-a4ba-b8d18ced685c",
   "metadata": {
    "tags": []
   },
   "outputs": [
    {
     "name": "stdout",
     "output_type": "stream",
     "text": [
      "Blue\n"
     ]
    }
   ],
   "source": [
    "class car :\n",
    "    color = \"Blue\"\n",
    "    \n",
    "car1 = car()\n",
    "print(car1.color)"
   ]
  },
  {
   "cell_type": "markdown",
   "id": "f1fda649-f46b-4577-80a8-cd4b92946c53",
   "metadata": {},
   "source": [
    "# Constructor "
   ]
  },
  {
   "cell_type": "code",
   "execution_count": 5,
   "id": "14429b8d-22d1-49a2-af8f-4ab8b43354b5",
   "metadata": {
    "tags": []
   },
   "outputs": [
    {
     "name": "stdout",
     "output_type": "stream",
     "text": [
      "<__main__.Student object at 0x7afccc5014d0>\n",
      "New student added ...\n",
      "karan\n"
     ]
    }
   ],
   "source": [
    "class Student :\n",
    "    name = \"John\"\n",
    "    def __init__(self , fullname):\n",
    "        self.name = fullname\n",
    "        print(self)\n",
    "        print(\"New student added ...\")\n",
    "    \n",
    "s1 = Student(\"karan\")\n",
    "print(s1.name)"
   ]
  },
  {
   "cell_type": "code",
   "execution_count": 6,
   "id": "b957c8f2-56b8-4512-9735-57e6200f88f2",
   "metadata": {
    "tags": []
   },
   "outputs": [
    {
     "name": "stdout",
     "output_type": "stream",
     "text": [
      "<__main__.Student object at 0x7afccc5014d0>\n"
     ]
    }
   ],
   "source": [
    "print(s1)"
   ]
  },
  {
   "cell_type": "markdown",
   "id": "f2856bf4-7018-474b-90a3-04ee917f3a4e",
   "metadata": {},
   "source": [
    "# HERE , self points to the object created , i.e object and self is same"
   ]
  },
  {
   "cell_type": "markdown",
   "id": "be5cb94d-2831-4ff0-9bb9-2d9bff403820",
   "metadata": {},
   "source": [
    "# Methods in Class"
   ]
  },
  {
   "cell_type": "code",
   "execution_count": 7,
   "id": "5221be1f-f9c0-435d-9915-ce000031a1a5",
   "metadata": {
    "tags": []
   },
   "outputs": [
    {
     "name": "stdout",
     "output_type": "stream",
     "text": [
      "hello Ramesh\n",
      "Welcome students Ramesh\n",
      "('Ramesh', '1st Rank')\n",
      "hello Suresh\n",
      "Welcome students Suresh\n",
      "('Suresh', '5th Rank')\n"
     ]
    }
   ],
   "source": [
    "# methods -> functions belongs to object \n",
    "class Student:\n",
    "    def __init__(self,fullname , rank):\n",
    "        self.name = fullname\n",
    "        self.rank = rank\n",
    "    def hello(self):\n",
    "        print(\"hello\" , self.name)\n",
    "    def welcome(self):\n",
    "        print('Welcome students', self.name)\n",
    "    def marks(self):\n",
    "        return self.name ,self.rank\n",
    "# creating object \n",
    "\n",
    "s1 = Student(\"Ramesh\", \"1st Rank\")\n",
    "s1.hello()\n",
    "s1.welcome()         \n",
    "print(s1.marks())\n",
    "\n",
    "s2 = Student(\"Suresh\" , \"5th Rank\")\n",
    "s2.hello()\n",
    "s2.welcome()\n",
    "print(s2.marks())"
   ]
  },
  {
   "cell_type": "markdown",
   "id": "0e82b4fc-b632-4a24-bb95-e631d029541d",
   "metadata": {
    "tags": []
   },
   "source": [
    "# For using methods of class we do\n",
    "\n",
    "objectname . methodname()"
   ]
  },
  {
   "cell_type": "code",
   "execution_count": 8,
   "id": "9e50b736-eb82-4995-8496-53c527906c06",
   "metadata": {
    "tags": []
   },
   "outputs": [],
   "source": [
    "class Stud :\n",
    "    def __init__(self,stu_name, mark):\n",
    "        self.stu_name = stu_name\n",
    "        self.mark = mark\n",
    "    @staticmethod    \n",
    "    def hello():\n",
    "        print(\"Hello\")\n",
    "    def method_avg(self):\n",
    "        sum = 0\n",
    "        for i in self.mark :\n",
    "            sum += i\n",
    "        print(\"HI\", self.stu_name ,\"your average score is :\", sum/3)    \n",
    "        "
   ]
  },
  {
   "cell_type": "code",
   "execution_count": 9,
   "id": "c19d0477-562b-4748-907d-fac324eed4c4",
   "metadata": {
    "tags": []
   },
   "outputs": [
    {
     "name": "stdout",
     "output_type": "stream",
     "text": [
      "Hello\n",
      "HI Rahul your average score is : 40.0\n"
     ]
    }
   ],
   "source": [
    "student1 = Stud(\"Rahul\",[30 , 40 , 50])\n",
    "student1.hello()\n",
    "student1.method_avg()"
   ]
  },
  {
   "cell_type": "markdown",
   "id": "f3936f36-5d8c-4f3e-bcc9-2240e5093393",
   "metadata": {},
   "source": [
    "# Static Methods"
   ]
  },
  {
   "cell_type": "markdown",
   "id": "475afc9a-1ec2-475e-a96b-f27be14b870d",
   "metadata": {
    "tags": []
   },
   "source": [
    "# methods that don't use self parameter (work at class level)\n",
    "for example\n",
    "\n",
    "we created a class and its three objects \n",
    "\n",
    "and for each method that are using of performing at object level por we can say require object data , in this we pass self parameter , but in some cases we do not require object so intead of passing self we create that method static"
   ]
  },
  {
   "cell_type": "markdown",
   "id": "387a3b44-c9ed-4343-964a-65ff51e49b56",
   "metadata": {
    "tags": []
   },
   "source": [
    "# example :\n",
    "    @staticmethod   // decorator\n",
    "    def hello ():\n",
    "        print(\"GOOD MORINING\")"
   ]
  },
  {
   "cell_type": "code",
   "execution_count": 10,
   "id": "33388530-06f3-47fe-92b3-7d5d49a4b088",
   "metadata": {
    "tags": []
   },
   "outputs": [],
   "source": [
    "# @staticmethod  // decorator used for creating static method "
   ]
  },
  {
   "cell_type": "code",
   "execution_count": 11,
   "id": "f19bdd2c-a948-4961-b222-a5f9dd4883ad",
   "metadata": {
    "tags": []
   },
   "outputs": [
    {
     "name": "stdout",
     "output_type": "stream",
     "text": [
      "Rs. 4000 debited from your account\n",
      "Total Balance: 46000\n",
      "Rs. 5600 credited to your account\n",
      "Total Balance: 51600\n"
     ]
    }
   ],
   "source": [
    "class Account:\n",
    "    def __init__(self, bal, acc):\n",
    "        self.balance = bal\n",
    "        self.account_no = acc\n",
    "    \n",
    "    def debit(self, debit_amount):\n",
    "        if debit_amount > self.balance:\n",
    "            print(\"Insufficient balance to debit\", debit_amount)\n",
    "        else:\n",
    "            self.balance -= debit_amount\n",
    "            print(\"Rs.\", debit_amount, \"debited from your account\")\n",
    "            print(\"Total Balance:\", self.get_balance())\n",
    "    \n",
    "    def credit(self, credit_amount):\n",
    "        self.balance += credit_amount\n",
    "        print(\"Rs.\", credit_amount, \"credited to your account\")\n",
    "        print(\"Total Balance:\", self.get_balance())\n",
    "    \n",
    "    def get_balance(self):\n",
    "        return self.balance\n",
    "\n",
    "# Creating an account object\n",
    "acc1 = Account(50000, 1234566342)\n",
    "acc1.debit(4000)  # Debit 4000\n",
    "acc1.credit(5600)  # Credit 5600   "
   ]
  },
  {
   "cell_type": "code",
   "execution_count": null,
   "id": "de96b065-2f01-4eca-8bfc-409f6c93dc6a",
   "metadata": {},
   "outputs": [],
   "source": []
  }
 ],
 "metadata": {
  "kernelspec": {
   "display_name": "Python 3 (ipykernel)",
   "language": "python",
   "name": "python3"
  },
  "language_info": {
   "codemirror_mode": {
    "name": "ipython",
    "version": 3
   },
   "file_extension": ".py",
   "mimetype": "text/x-python",
   "name": "python",
   "nbconvert_exporter": "python",
   "pygments_lexer": "ipython3",
   "version": "3.11.5"
  },
  "widgets": {
   "application/vnd.jupyter.widget-state+json": {
    "state": {},
    "version_major": 2,
    "version_minor": 0
   }
  }
 },
 "nbformat": 4,
 "nbformat_minor": 5
}
