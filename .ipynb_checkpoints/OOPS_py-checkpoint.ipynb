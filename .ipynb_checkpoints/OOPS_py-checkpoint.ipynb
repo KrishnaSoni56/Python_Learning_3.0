{
 "cells": [
  {
   "cell_type": "markdown",
   "id": "7dafc58e-fe76-4b44-9d63-5126355c5527",
   "metadata": {},
   "source": [
    "# OOPS in python"
   ]
  },
  {
   "cell_type": "markdown",
   "id": "6a2fd8e4-c3ea-4625-a8de-5bd1021c1490",
   "metadata": {},
   "source": [
    "# To map with real world scenarios , we started using objects oin code"
   ]
  },
  {
   "cell_type": "markdown",
   "id": "c9da673a-0969-4d09-bb48-9eca6ae65304",
   "metadata": {
    "tags": []
   },
   "source": [
    "# Procedural -> Functional -> Object oriented \n",
    "\n",
    "redundancy less , code reusability high "
   ]
  },
  {
   "cell_type": "code",
   "execution_count": 2,
   "id": "ccc690ba-28fa-4f60-8455-1fda9769eec7",
   "metadata": {
    "tags": []
   },
   "outputs": [],
   "source": [
    "# Class & objects in python\n",
    "\n",
    "# class is a blueprint for creating objects"
   ]
  },
  {
   "cell_type": "code",
   "execution_count": 6,
   "id": "837e5d10-7136-472d-bc92-a839b8586aab",
   "metadata": {
    "tags": []
   },
   "outputs": [
    {
     "name": "stdout",
     "output_type": "stream",
     "text": [
      "John\n"
     ]
    }
   ],
   "source": [
    "# Creating class \n",
    "\n",
    "class Student :\n",
    "    name = \"John\"\n",
    "    \n",
    "        \n",
    "# creating object fpr class student \n",
    "s1 = Student()\n",
    "print(s1.name)"
   ]
  },
  {
   "cell_type": "code",
   "execution_count": 7,
   "id": "b7ad2c0d-ec96-49af-a4ba-b8d18ced685c",
   "metadata": {
    "tags": []
   },
   "outputs": [
    {
     "name": "stdout",
     "output_type": "stream",
     "text": [
      "Blue\n"
     ]
    }
   ],
   "source": [
    "class car :\n",
    "    color = \"Blue\"\n",
    "    \n",
    "car1 = car()\n",
    "print(car1.color)"
   ]
  },
  {
   "cell_type": "markdown",
   "id": "f1fda649-f46b-4577-80a8-cd4b92946c53",
   "metadata": {},
   "source": [
    "# Constructor "
   ]
  },
  {
   "cell_type": "code",
   "execution_count": 13,
   "id": "14429b8d-22d1-49a2-af8f-4ab8b43354b5",
   "metadata": {
    "tags": []
   },
   "outputs": [
    {
     "name": "stdout",
     "output_type": "stream",
     "text": [
      "<__main__.Student object at 0x7460cfd823d0>\n",
      "New student added ...\n",
      "karan\n"
     ]
    }
   ],
   "source": [
    "class Student :\n",
    "    name = \"John\"\n",
    "    def __init__(self , fullname):\n",
    "        self.name = fullname\n",
    "        print(self)\n",
    "        print(\"New student added ...\")\n",
    "    \n",
    "s1 = Student(\"karan\")\n",
    "print(s1.name)"
   ]
  },
  {
   "cell_type": "code",
   "execution_count": 11,
   "id": "b957c8f2-56b8-4512-9735-57e6200f88f2",
   "metadata": {
    "tags": []
   },
   "outputs": [
    {
     "name": "stdout",
     "output_type": "stream",
     "text": [
      "<__main__.Student object at 0x7460e4beb6d0>\n"
     ]
    }
   ],
   "source": [
    "print(s1)"
   ]
  },
  {
   "cell_type": "markdown",
   "id": "f2856bf4-7018-474b-90a3-04ee917f3a4e",
   "metadata": {},
   "source": [
    "# HERE , self points to the object created , i.e object and self is same"
   ]
  },
  {
   "cell_type": "markdown",
   "id": "be5cb94d-2831-4ff0-9bb9-2d9bff403820",
   "metadata": {},
   "source": [
    "# Methods in Class"
   ]
  },
  {
   "cell_type": "code",
   "execution_count": 18,
   "id": "5221be1f-f9c0-435d-9915-ce000031a1a5",
   "metadata": {
    "tags": []
   },
   "outputs": [
    {
     "name": "stdout",
     "output_type": "stream",
     "text": [
      "Welcome students\n"
     ]
    }
   ],
   "source": [
    "# methods -> functions belongs to object \n",
    "class Student:\n",
    "    def __init__(self,fullname):\n",
    "        self.name = fullname\n",
    "    def hello(self):\n",
    "        print(\"hello\" , self.name)\n",
    "    def welcome(self):\n",
    "        print('Welcome students')\n",
    "# creating object \n",
    "\n",
    "s1 = Student(\"Ramesh\")\n",
    "s1.welcome()         "
   ]
  },
  {
   "cell_type": "markdown",
   "id": "0e82b4fc-b632-4a24-bb95-e631d029541d",
   "metadata": {
    "tags": []
   },
   "source": [
    "# For using methods of class we do\n",
    "\n",
    "objectname . methodname()"
   ]
  },
  {
   "cell_type": "code",
   "execution_count": null,
   "id": "9e50b736-eb82-4995-8496-53c527906c06",
   "metadata": {},
   "outputs": [],
   "source": []
  }
 ],
 "metadata": {
  "kernelspec": {
   "display_name": "Python 3 (ipykernel)",
   "language": "python",
   "name": "python3"
  },
  "language_info": {
   "codemirror_mode": {
    "name": "ipython",
    "version": 3
   },
   "file_extension": ".py",
   "mimetype": "text/x-python",
   "name": "python",
   "nbconvert_exporter": "python",
   "pygments_lexer": "ipython3",
   "version": "3.11.5"
  },
  "widgets": {
   "application/vnd.jupyter.widget-state+json": {
    "state": {},
    "version_major": 2,
    "version_minor": 0
   }
  }
 },
 "nbformat": 4,
 "nbformat_minor": 5
}
