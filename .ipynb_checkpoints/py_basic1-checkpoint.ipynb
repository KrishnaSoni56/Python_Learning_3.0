{
 "cells": [
  {
   "cell_type": "markdown",
   "id": "3a94933c-817d-4356-a78d-707d5c96d766",
   "metadata": {},
   "source": [
    "# Python Basics"
   ]
  },
  {
   "cell_type": "code",
   "execution_count": 1,
   "id": "c9764b62-8bff-4214-81dc-7a5297b1654f",
   "metadata": {
    "tags": []
   },
   "outputs": [
    {
     "name": "stdout",
     "output_type": "stream",
     "text": [
      "s\n",
      "y\n",
      "s\n",
      "t\n",
      "e\n",
      "m\n"
     ]
    }
   ],
   "source": [
    "for a in 'system':\n",
    "    print(a)\n",
    "    "
   ]
  },
  {
   "cell_type": "code",
   "execution_count": 2,
   "id": "579e8eb2-4fef-433e-b285-1c49fc68dd42",
   "metadata": {
    "tags": []
   },
   "outputs": [],
   "source": [
    "# Function on string"
   ]
  },
  {
   "cell_type": "code",
   "execution_count": 3,
   "id": "1fd6a1a2-9a86-49a5-b146-e5d1ab512673",
   "metadata": {
    "tags": []
   },
   "outputs": [
    {
     "name": "stdout",
     "output_type": "stream",
     "text": [
      "19\n"
     ]
    }
   ],
   "source": [
    "# 1. len()\n",
    "a = \"India in my country\"\n",
    "print(len(a))"
   ]
  },
  {
   "cell_type": "code",
   "execution_count": 4,
   "id": "6ebb4749-c48e-4ec3-b1e8-692e1582c0dd",
   "metadata": {
    "tags": []
   },
   "outputs": [
    {
     "name": "stdout",
     "output_type": "stream",
     "text": [
      "90\n"
     ]
    },
    {
     "data": {
      "text/plain": [
       "str"
      ]
     },
     "execution_count": 4,
     "metadata": {},
     "output_type": "execute_result"
    }
   ],
   "source": [
    "# 2. str(I) -> convert a obj to string\n",
    "a = 90\n",
    "print(str(a))\n",
    "type(str(a))"
   ]
  },
  {
   "cell_type": "code",
   "execution_count": 5,
   "id": "7b96e5b8-6dde-40e4-b8de-965aedf41817",
   "metadata": {
    "tags": []
   },
   "outputs": [
    {
     "name": "stdin",
     "output_type": "stream",
     "text": [
      "Enter a string INDIA\n"
     ]
    },
    {
     "name": "stdout",
     "output_type": "stream",
     "text": [
      "india\n"
     ]
    }
   ],
   "source": [
    "# 3. lower() ->  convert letter of str into lower\n",
    "string = input(\"Enter a string\")\n",
    "print(string.lower())"
   ]
  },
  {
   "cell_type": "code",
   "execution_count": 6,
   "id": "b7df8772-3a16-47ca-bcc5-d0b3e6fd38fa",
   "metadata": {
    "tags": []
   },
   "outputs": [
    {
     "name": "stdin",
     "output_type": "stream",
     "text": [
      "Enter a string india\n"
     ]
    },
    {
     "name": "stdout",
     "output_type": "stream",
     "text": [
      "INDIA\n"
     ]
    }
   ],
   "source": [
    "# similarly upper()\n",
    "string = input(\"Enter a string\")\n",
    "print(string.upper())"
   ]
  },
  {
   "cell_type": "code",
   "execution_count": 8,
   "id": "ab8bb3d6-ed91-4169-b6c6-faefb033b23b",
   "metadata": {
    "tags": []
   },
   "outputs": [
    {
     "name": "stdin",
     "output_type": "stream",
     "text": [
      "Enter a string iNdia IS mYY countyr\n"
     ]
    },
    {
     "name": "stdout",
     "output_type": "stream",
     "text": [
      "India is myy countyr\n"
     ]
    }
   ],
   "source": [
    "# capitalize \n",
    "string = input(\"Enter a string\")\n",
    "print(string.capitalize())"
   ]
  },
  {
   "cell_type": "code",
   "execution_count": 9,
   "id": "c46aeee6-1046-49cc-b56a-b9052bfbf9fd",
   "metadata": {
    "tags": []
   },
   "outputs": [
    {
     "name": "stdin",
     "output_type": "stream",
     "text": [
      "Enter a string removes leading and trailing\n"
     ]
    },
    {
     "name": "stdout",
     "output_type": "stream",
     "text": [
      "Removes Leading And Trailing\n"
     ]
    }
   ],
   "source": [
    "# 6 title()\n",
    "# 1st letter of each word to uppercase\n",
    "\n",
    "string = input(\"Enter a string\")\n",
    "print(string.title())"
   ]
  },
  {
   "cell_type": "code",
   "execution_count": 21,
   "id": "af7c9c59-400f-4cda-9f6e-c8b86b0c92c6",
   "metadata": {
    "tags": []
   },
   "outputs": [
    {
     "name": "stdout",
     "output_type": "stream",
     "text": [
      "Hello world\n"
     ]
    }
   ],
   "source": [
    "# 7. strip() -> removes whitespace\n",
    "\n",
    "a = \"Hello world    \" \n",
    "print(a.strip())\n"
   ]
  },
  {
   "cell_type": "code",
   "execution_count": 24,
   "id": "86009900-63b8-4797-aba9-71970771d033",
   "metadata": {
    "tags": []
   },
   "outputs": [
    {
     "name": "stdout",
     "output_type": "stream",
     "text": [
      "['India', 'is', 'my', 'country!']\n"
     ]
    }
   ],
   "source": [
    "# split method \n",
    "string  = \"India is my country!\"\n",
    "print(string.split())"
   ]
  },
  {
   "cell_type": "code",
   "execution_count": null,
   "id": "0b3c25fb-00d3-4c09-9eb9-a985cc4d2c87",
   "metadata": {
    "tags": []
   },
   "outputs": [],
   "source": []
  },
  {
   "cell_type": "code",
   "execution_count": null,
   "id": "84dd21de-e98b-4f9b-af8a-be16e94c3a28",
   "metadata": {},
   "outputs": [],
   "source": []
  },
  {
   "cell_type": "code",
   "execution_count": null,
   "id": "a524e52f-366f-41fc-a173-3330204b0b0f",
   "metadata": {},
   "outputs": [],
   "source": []
  },
  {
   "cell_type": "code",
   "execution_count": null,
   "id": "d95b8f2c-86a1-4c8a-8fa2-4961485a4820",
   "metadata": {},
   "outputs": [],
   "source": []
  },
  {
   "cell_type": "code",
   "execution_count": null,
   "id": "8d3cf979-cd6c-4f74-9047-03575b113e09",
   "metadata": {},
   "outputs": [],
   "source": []
  }
 ],
 "metadata": {
  "kernelspec": {
   "display_name": "Python 3 (ipykernel)",
   "language": "python",
   "name": "python3"
  },
  "language_info": {
   "codemirror_mode": {
    "name": "ipython",
    "version": 3
   },
   "file_extension": ".py",
   "mimetype": "text/x-python",
   "name": "python",
   "nbconvert_exporter": "python",
   "pygments_lexer": "ipython3",
   "version": "3.11.5"
  },
  "widgets": {
   "application/vnd.jupyter.widget-state+json": {
    "state": {},
    "version_major": 2,
    "version_minor": 0
   }
  }
 },
 "nbformat": 4,
 "nbformat_minor": 5
}
